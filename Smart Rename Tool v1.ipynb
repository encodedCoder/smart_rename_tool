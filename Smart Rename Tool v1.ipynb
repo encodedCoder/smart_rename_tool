{
 "cells": [
  {
   "cell_type": "markdown",
   "id": "10ddf705",
   "metadata": {},
   "source": [
    "# Smart Rename Tool \n",
    "This smart rename is our go to tool when we have so many files without filename extension. Smart Rename Tool reads the file header of files and find out the type of file we are dealing with. If no extension is present in the filename then Smart Rename tool adds the file extension to it. "
   ]
  },
  {
   "cell_type": "markdown",
   "id": "204db8ee",
   "metadata": {},
   "source": [
    "## Install the Required Library\n",
    "'magic-bin' is required package to do the actual magic here."
   ]
  },
  {
   "cell_type": "code",
   "execution_count": 2,
   "id": "646a7624",
   "metadata": {
    "ExecuteTime": {
     "end_time": "2023-06-28T15:07:00.734372Z",
     "start_time": "2023-06-28T15:07:00.723759Z"
    }
   },
   "outputs": [
    {
     "data": {
      "text/plain": [
       "\"\\n    Install the python-magic-bin==0.4.14 Library using following pip install command\\n    # If you are running this command inside jupyter notebook, add '!' sign before pip\\n\""
      ]
     },
     "execution_count": 2,
     "metadata": {},
     "output_type": "execute_result"
    }
   ],
   "source": [
    "'''\n",
    "    Install the python-magic-bin==0.4.14 Library using following pip install command\n",
    "    # If you are running this command inside jupyter notebook, add '!' sign before pip\n",
    "'''\n",
    "#Command to install the library using jupyter notebook\n",
    "# !pip install python-magic-bin==0.4.14  \n",
    "\n",
    "#Command to install the library using command propmpt\n",
    "# pip install python-magic-bin==0.4.14   "
   ]
  },
  {
   "cell_type": "markdown",
   "id": "7f9b0257",
   "metadata": {},
   "source": [
    "## Import the Required Packages\n",
    "'os' package is useful to read file paths and rename the files.\n",
    "'magic' package is used to read the file headers of files and find-out the type of file we are dealing with."
   ]
  },
  {
   "cell_type": "code",
   "execution_count": 3,
   "id": "dfde1281",
   "metadata": {
    "ExecuteTime": {
     "end_time": "2023-06-28T15:07:02.402975Z",
     "start_time": "2023-06-28T15:07:02.379890Z"
    }
   },
   "outputs": [],
   "source": [
    "import os\n",
    "import magic"
   ]
  },
  {
   "cell_type": "markdown",
   "id": "b0226651",
   "metadata": {},
   "source": [
    "## Get File Paths\n",
    "get_file_paths function reads all the files into a list which we want to rename smartly."
   ]
  },
  {
   "cell_type": "code",
   "execution_count": 4,
   "id": "60acb2a9",
   "metadata": {
    "ExecuteTime": {
     "end_time": "2023-06-28T15:07:05.344817Z",
     "start_time": "2023-06-28T15:07:05.336817Z"
    }
   },
   "outputs": [],
   "source": [
    "def get_file_paths(directory):\n",
    "    file_paths = []\n",
    "    for root, dirs, files in os.walk(directory):\n",
    "        for file in files:\n",
    "            file_path = os.path.join(root, file)\n",
    "            file_paths.append(file_path)          \n",
    "    return file_paths"
   ]
  },
  {
   "cell_type": "markdown",
   "id": "6f6129f9",
   "metadata": {},
   "source": [
    "## ReadMe: \n",
    "I created this tool to identify the files I sent on WhatsApp, for some reason filename extension was not present in these files. I had some idea that it contains mp4, jpeg and pdfs only. So This program will only identify and rename the files which are .mp4, .jpeg, .pdf. If there are other filetypes then \"print(file_path)\" and \"print(filetype)\" these two statements will give you enough idea about other datatypes of files with file_path above it."
   ]
  },
  {
   "cell_type": "code",
   "execution_count": 13,
   "id": "f8841fe0",
   "metadata": {
    "ExecuteTime": {
     "end_time": "2023-06-28T18:36:01.988841Z",
     "start_time": "2023-06-28T18:36:01.927791Z"
    }
   },
   "outputs": [
    {
     "name": "stdout",
     "output_type": "stream",
     "text": [
      "D:\\Photos\\WhatsApp Business Documents\\Sent\\DOC-20220813-WA0004.pdf\n",
      "application/pdf\n",
      "D:\\Photos\\WhatsApp Business Documents\\Sent\\DOC-20220923-WA0006\n",
      "application/pdf\n",
      "D:\\Photos\\WhatsApp Business Documents\\Sent\\DOC-20221105-WA0002.jpeg\n",
      "image/jpeg\n",
      "D:\\Photos\\WhatsApp Business Documents\\Sent\\DOC-20221105-WA0003.jpeg\n",
      "image/jpeg\n",
      "D:\\Photos\\WhatsApp Business Documents\\Sent\\DOC-20221105-WA0004.jpeg\n",
      "image/jpeg\n",
      "D:\\Photos\\WhatsApp Business Documents\\Sent\\DOC-20221105-WA0005.jpeg\n",
      "image/jpeg\n",
      "D:\\Photos\\WhatsApp Business Documents\\Sent\\DOC-20221105-WA0006.jpeg\n",
      "image/jpeg\n",
      "D:\\Photos\\WhatsApp Business Documents\\Sent\\DOC-20221107-WA0003\n",
      "application/pdf\n",
      "D:\\Photos\\WhatsApp Business Documents\\Sent\\DOC-20221118-WA0020.jpeg\n",
      "image/jpeg\n",
      "D:\\Photos\\WhatsApp Business Documents\\Sent\\DOC-20221118-WA0021.jpeg\n",
      "image/jpeg\n",
      "D:\\Photos\\WhatsApp Business Documents\\Sent\\DOC-20221118-WA0022.jpeg\n",
      "image/jpeg\n",
      "D:\\Photos\\WhatsApp Business Documents\\Sent\\DOC-20221118-WA0023.jpeg\n",
      "image/jpeg\n",
      "D:\\Photos\\WhatsApp Business Documents\\Sent\\DOC-20221118-WA0024.jpeg\n",
      "image/jpeg\n",
      "D:\\Photos\\WhatsApp Business Documents\\Sent\\DOC-20221118-WA0025.jpeg\n",
      "image/jpeg\n",
      "D:\\Photos\\WhatsApp Business Documents\\Sent\\DOC-20221118-WA0026.jpeg\n",
      "image/jpeg\n",
      "D:\\Photos\\WhatsApp Business Documents\\Sent\\DOC-20221128-WA0002\n",
      "application/pdf\n",
      "D:\\Photos\\WhatsApp Business Documents\\Sent\\DOC-20221205-WA0020\n",
      "application/pdf\n",
      "D:\\Photos\\WhatsApp Business Documents\\Sent\\DOC-20221205-WA0021\n",
      "application/pdf\n",
      "D:\\Photos\\WhatsApp Business Documents\\Sent\\DOC-20221215-WA0011\n",
      "application/pdf\n",
      "D:\\Photos\\WhatsApp Business Documents\\Sent\\DOC-20221215-WA0014\n",
      "application/pdf\n",
      "D:\\Photos\\WhatsApp Business Documents\\Sent\\DOC-20221221-WA0005\n",
      "application/pdf\n",
      "D:\\Photos\\WhatsApp Business Documents\\Sent\\DOC-20221221-WA0008.jpeg\n",
      "image/jpeg\n",
      "D:\\Photos\\WhatsApp Business Documents\\Sent\\DOC-20221221-WA0009.jpeg\n",
      "image/jpeg\n",
      "D:\\Photos\\WhatsApp Business Documents\\Sent\\DOC-20221226-WA0008\n",
      "application/pdf\n",
      "D:\\Photos\\WhatsApp Business Documents\\Sent\\DOC-20221226-WA0009\n",
      "application/pdf\n",
      "D:\\Photos\\WhatsApp Business Documents\\Sent\\DOC-20230209-WA0000.mp4\n",
      "video/mp4\n",
      "D:\\Photos\\WhatsApp Business Documents\\Sent\\DOC-20230209-WA0001.mp4\n",
      "video/mp4\n",
      "D:\\Photos\\WhatsApp Business Documents\\Sent\\DOC-20230211-WA0004.jpeg\n",
      "image/jpeg\n",
      "D:\\Photos\\WhatsApp Business Documents\\Sent\\DOC-20230211-WA0005.jpeg\n",
      "image/jpeg\n",
      "D:\\Photos\\WhatsApp Business Documents\\Sent\\DOC-20230211-WA0006.jpeg\n",
      "image/jpeg\n",
      "D:\\Photos\\WhatsApp Business Documents\\Sent\\DOC-20230211-WA0007.jpeg\n",
      "image/jpeg\n",
      "D:\\Photos\\WhatsApp Business Documents\\Sent\\DOC-20230211-WA0008.jpeg\n",
      "image/jpeg\n",
      "D:\\Photos\\WhatsApp Business Documents\\Sent\\DOC-20230211-WA0009.jpeg\n",
      "image/jpeg\n",
      "D:\\Photos\\WhatsApp Business Documents\\Sent\\DOC-20230211-WA0010.jpeg\n",
      "image/jpeg\n",
      "D:\\Photos\\WhatsApp Business Documents\\Sent\\DOC-20230211-WA0011.jpeg\n",
      "image/jpeg\n",
      "D:\\Photos\\WhatsApp Business Documents\\Sent\\DOC-20230211-WA0012.jpeg\n",
      "image/jpeg\n",
      "D:\\Photos\\WhatsApp Business Documents\\Sent\\DOC-20230211-WA0013.jpeg\n",
      "image/jpeg\n",
      "D:\\Photos\\WhatsApp Business Documents\\Sent\\DOC-20230211-WA0014.jpeg\n",
      "image/jpeg\n",
      "D:\\Photos\\WhatsApp Business Documents\\Sent\\DOC-20230211-WA0015.jpeg\n",
      "image/jpeg\n",
      "D:\\Photos\\WhatsApp Business Documents\\Sent\\DOC-20230211-WA0016.jpeg\n",
      "image/jpeg\n",
      "D:\\Photos\\WhatsApp Business Documents\\Sent\\DOC-20230211-WA0017.jpeg\n",
      "image/jpeg\n",
      "D:\\Photos\\WhatsApp Business Documents\\Sent\\DOC-20230211-WA0018.jpeg\n",
      "image/jpeg\n",
      "D:\\Photos\\WhatsApp Business Documents\\Sent\\DOC-20230211-WA0019.jpeg\n",
      "image/jpeg\n",
      "D:\\Photos\\WhatsApp Business Documents\\Sent\\DOC-20230211-WA0020.jpeg\n",
      "image/jpeg\n",
      "D:\\Photos\\WhatsApp Business Documents\\Sent\\DOC-20230211-WA0021.jpeg\n",
      "image/jpeg\n",
      "D:\\Photos\\WhatsApp Business Documents\\Sent\\DOC-20230211-WA0022.jpeg\n",
      "image/jpeg\n",
      "D:\\Photos\\WhatsApp Business Documents\\Sent\\DOC-20230211-WA0023.jpeg\n",
      "image/jpeg\n",
      "D:\\Photos\\WhatsApp Business Documents\\Sent\\DOC-20230211-WA0024.jpeg\n",
      "image/jpeg\n",
      "D:\\Photos\\WhatsApp Business Documents\\Sent\\DOC-20230211-WA0025.jpeg\n",
      "image/jpeg\n",
      "D:\\Photos\\WhatsApp Business Documents\\Sent\\DOC-20230211-WA0026.jpeg\n",
      "image/jpeg\n",
      "D:\\Photos\\WhatsApp Business Documents\\Sent\\DOC-20230306-WA0006.mp4\n",
      "video/mp4\n",
      "D:\\Photos\\WhatsApp Business Documents\\Sent\\DOC-20230323-WA0004.mp4\n",
      "video/mp4\n"
     ]
    }
   ],
   "source": [
    "directory_path = r\"D:\\Photos\\WhatsApp Business Documents\\Sent\"\n",
    "file_paths = get_file_paths(directory_path)\n",
    "\n",
    "# # Print the file paths\n",
    "# for file_path in file_paths:\n",
    "#     print(file_path)\n",
    "\n",
    "for file_path in file_paths:\n",
    "    filetype = magic.from_file(file_path, mime = True).lower()\n",
    "    print(file_path)\n",
    "    print(filetype)\n",
    "#     continue\n",
    "    if \".\" in file_path:\n",
    "        continue\n",
    "    if 'mp4' in filetype:\n",
    "        os.rename(file_path, file_path + '.mp4')\n",
    "    elif 'jpeg' in filetype:\n",
    "        os.rename(file_path, file_path + '.jpeg')\n",
    "    elif 'pdf' in filetype:\n",
    "        os.rename(file_path, file_path + '.pdf')"
   ]
  },
  {
   "cell_type": "code",
   "execution_count": null,
   "id": "dd100850",
   "metadata": {},
   "outputs": [],
   "source": []
  }
 ],
 "metadata": {
  "kernelspec": {
   "display_name": "Python 3 (ipykernel)",
   "language": "python",
   "name": "python3"
  },
  "language_info": {
   "codemirror_mode": {
    "name": "ipython",
    "version": 3
   },
   "file_extension": ".py",
   "mimetype": "text/x-python",
   "name": "python",
   "nbconvert_exporter": "python",
   "pygments_lexer": "ipython3",
   "version": "3.9.13"
  },
  "toc": {
   "base_numbering": 1,
   "nav_menu": {},
   "number_sections": true,
   "sideBar": true,
   "skip_h1_title": false,
   "title_cell": "Table of Contents",
   "title_sidebar": "Contents",
   "toc_cell": false,
   "toc_position": {},
   "toc_section_display": true,
   "toc_window_display": false
  },
  "varInspector": {
   "cols": {
    "lenName": 16,
    "lenType": 16,
    "lenVar": 40
   },
   "kernels_config": {
    "python": {
     "delete_cmd_postfix": "",
     "delete_cmd_prefix": "del ",
     "library": "var_list.py",
     "varRefreshCmd": "print(var_dic_list())"
    },
    "r": {
     "delete_cmd_postfix": ") ",
     "delete_cmd_prefix": "rm(",
     "library": "var_list.r",
     "varRefreshCmd": "cat(var_dic_list()) "
    }
   },
   "types_to_exclude": [
    "module",
    "function",
    "builtin_function_or_method",
    "instance",
    "_Feature"
   ],
   "window_display": false
  }
 },
 "nbformat": 4,
 "nbformat_minor": 5
}
